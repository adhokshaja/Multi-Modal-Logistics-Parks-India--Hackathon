{
 "cells": [
  {
   "cell_type": "markdown",
   "metadata": {},
   "source": [
    "# Multi-Modal Logistics Parks - India\n",
    "** Problem from: IGSA UW-Madison SUPPLY CHAIN HACKATHON - Apr2020** \n",
    "### Solution author : Adhokshaja Achar Budihal Prasad\n",
    "\n",
    "## Problem Statement\n",
    "Development of Multi-Modal Logistics Parks (MMLP) at strategic locations to enable efficient inter-modal (road, rail, waterway and air) freight movement and formalised interface amongst logistics service providers, service users and regulators is expected to bring about significant efficiencies in India’s logistics sector, providing a much-needed impetus towards driving logistics cost to less than 10% of country’s GDP. To achieve that goal, the government has embarked on ambitious journey to develop a network of MMLPs across the country. The complexities involved in its implementation, criticality of the infrastructure and need for smooth operations involving multiple stakeholders necessitates strong focus from the government on its development and operations. This becomes more important especially in the current unprecedented challenging times of COVID-19.\n",
    "\n",
    "In this question, we would solve a Minimum-cost flow problem, which is an optimization problem to find the cheapest possible way of sending a certain amount of flow through a flow network. The flow network is the above described network of ports to possible MMLP locations with the nodes being either source or demand nodes and the edges being the distance between nodes. The Data File is a dense matrix where the rows index are the ports and the column index are the demand zones to be satisfied. The matrix itself is the distance between these locations in kilometer (km). The cost per kilometer is 35 Rs. Find the minimum cost to satisfy the demand. \n",
    "\n",
    "\n",
    "## Author's notes\n",
    "- This has been adapted to python from the Julia Jupyter Notebook files provided.\n",
    "- The names for cities/ports in the original distance csv were not consistant with the city/port in the supply demand excel file. These have been corrected to be made consistent before import\n",
    "- In addition to `pandas` this solution uses `pyomo` with `glpk` solver. These can be installed in a Conda environment by using\n",
    " ```\n",
    " conda install -c conda-forge glpk\n",
    " conda install -c conda-forge pyomo\n",
    " ```\n"
   ],
   "execution_count": null,
   "outputs": []
  },
  {
   "cell_type": "code",
   "execution_count": 1,
   "metadata": {},
   "outputs": [],
   "source": [
    "import pandas as pd\n",
    "from pyomo.opt import SolverFactory\n",
    "from pyomo.environ import *"
   ]
  },
  {
   "cell_type": "markdown",
   "metadata": {},
   "source": [
    "## Define ports and Cities\n",
    "Ports are origin, Cities are destination"
   ],
   "execution_count": null,
   "outputs": []
  },
  {
   "cell_type": "code",
   "execution_count": 15,
   "metadata": {},
   "outputs": [
    {
     "output_type": "execute_result",
     "data": {
      "text/plain": "20"
     },
     "metadata": {},
     "execution_count": 15
    }
   ],
   "source": [
    "Ports = [\"Kolkata\", \"Haldia\", \"Paradeep\", \"Vizag\", \"Chennai\", \"Chidambaram\", \"Kochi\", \"Mangalore\", \"Mormugaon\", \"JNPT\", \"DeenDayal\", \"Kharagpur\", \"Chandigarh\", \"Delhi\", \"Bangalore\"]\n",
    "Cities = [ \"Guwhathi\",  \"Srinagar\",  \"Chandigarh\", \"Delhi\", \"Rudrapur\",\"NaviMumbai\",\"Vijaywada\",\"Varanasi\",\"Kharagpur\", \"Indore\", \"Belgaum\",\"Bangalore\", \"Rajkot\", \"Ahmedabad\", \"Ludhiana\", \"Rourkela\", \"Hyderabad\",\"Nagpur\", \"Coimbatore\", \"Kolkata\"]\n",
    "len(Cities)"
   ]
  },
  {
   "cell_type": "markdown",
   "metadata": {},
   "source": [
    "## Read inputs from data file\n",
    "Original Julia code coalesced null values with 2000 - Do the same here \n",
    "\n",
    "_Note: The names for cities/ports in the original distance csv were not consistant with the city/port in the supply demand excel file. These have been modified to be made consistent before import_ "
   ],
   "execution_count": null,
   "outputs": []
  },
  {
   "cell_type": "code",
   "execution_count": 3,
   "metadata": {},
   "outputs": [],
   "source": [
    "\n",
    "distances_df = pd.read_csv(\"Data.csv\", index_col=0).fillna(2000)\n",
    "\n",
    "# Coellesc null values with 2000 ( from the original file)\n",
    "\n",
    "distancesDict = dict()\n",
    "## the dictionary has port,city tupes with the value as the distance between them\n",
    "\n",
    "for p in Ports:\n",
    "   for c in Cities:\n",
    "      distancesDict[(p,c)] = distances_df.loc[p,c]\n",
    "      "
   ]
  },
  {
   "cell_type": "markdown",
   "metadata": {},
   "source": [
    "## Read Supply and demand data"
   ],
   "execution_count": null,
   "outputs": []
  },
  {
   "cell_type": "code",
   "execution_count": 4,
   "metadata": {},
   "outputs": [],
   "source": [
    "#read demand sypply data\n",
    "\n",
    "demandsupply_df = pd.read_excel(\"Supply Demand Data.xlsx\")\n",
    "\n",
    "# Convert supply and demand to dictionary\n",
    "supply = demandsupply_df[['Supply','Unnamed: 1']].dropna().set_index('Supply').to_dict()['Unnamed: 1']\n",
    "demand = demandsupply_df[['Demand', 'Unnamed: 4']].dropna().set_index('Demand').to_dict()['Unnamed: 4']\n",
    "\n",
    "unit_cost = 35 # Rs./km"
   ]
  },
  {
   "cell_type": "markdown",
   "metadata": {},
   "source": [
    "# Solution: GLPK model\n",
    "\n",
    "The objective here is to minimize the cost associated with transport from ports to cities. This is calculated by multiplying the units shipped with the distance and the cost per km\n"
   ],
   "execution_count": null,
   "outputs": []
  },
  {
   "cell_type": "code",
   "execution_count": 5,
   "metadata": {},
   "outputs": [
    {
     "output_type": "execute_result",
     "data": {
      "text/plain": "('AABP-PortCityModel.lp', 3129222512824)"
     },
     "metadata": {},
     "execution_count": 5
    }
   ],
   "source": [
    "\n",
    "model = ConcreteModel()\n",
    "model.dual = Suffix(direction=Suffix.IMPORT)\n",
    "\n",
    "# Set inputs ( these are raw data being inputted)\n",
    "model.ports = Set(initialize=supply.keys(), doc='Ports')\n",
    "model.cities = Set(initialize=demand.keys(), doc='Cities')\n",
    "\n",
    "\n",
    "model.distance = Param(model.ports, model.cities, initialize=distancesDict, doc='Distance in km')\n",
    "model.unitCost = Param(initialize=unit_cost, doc='Freight cost in Rs.per km')\n",
    "\n",
    "# Function to calculate cost - Distance * unit cost\n",
    "def perUnitCost_init(model, ports, cities):\n",
    "  return model.unitCost * model.distance[ports,cities]\n",
    "\n",
    "model.freightCost = Param(model.ports, model.cities, initialize=perUnitCost_init, doc='Transport cost in Rs.')\n",
    "\n",
    "\n",
    "# Initialize routes - Flow : number of pieces to be moved\n",
    "model.flow = Var(model.ports, model.cities, bounds=(0.0,None),domain = NonNegativeReals, doc='Flow quantities')\n",
    "\n",
    "\n",
    "# Function to get cost of moving freight - Objective function to be minimized\n",
    "def costCalc(model):\n",
    "  return sum(model.freightCost[port,city]*model.flow[port,city] for port in model.ports for city in model.cities)\n",
    "\n",
    "# add objective to model\n",
    "model.cost = Objective(rule=costCalc, sense=minimize, doc='Total cost')\n",
    "\n",
    "\n",
    "# define Supply constraint\n",
    "def supplyConstraint(model, port):\n",
    "  return sum(model.flow[port,city] for city in model.cities) <= supply[port]\n",
    "\n",
    "# add supply constraint to model\n",
    "model.supply_cons = Constraint(model.ports, rule=supplyConstraint, doc='Observe supply limit at port i')\n",
    "\n",
    "# define demand constraint\n",
    "def demandConstraint(model, city):\n",
    "  return sum(model.flow[port,city] for port in model.ports) >= demand[city]  \n",
    "\n",
    "# add demand constraint to model\n",
    "model.demand_cons = Constraint(model.cities, rule=demandConstraint, doc='Satisfy demand at city c')\n",
    "\n",
    "# Save LP file\n",
    "model.write('AABP-PortCityModel.lp')\n",
    "\n",
    "\n"
   ]
  },
  {
   "cell_type": "code",
   "execution_count": 6,
   "metadata": {},
   "outputs": [],
   "source": [
    "# solve using glpk solver\n",
    "results = SolverFactory(\"glpk\").solve(model)\n",
    "#  results.write()"
   ]
  },
  {
   "cell_type": "code",
   "execution_count": 7,
   "metadata": {},
   "outputs": [],
   "source": [
    "\n",
    "res_arr = [] # 2-d array to be converted to df later\n",
    "if 'ok' == str(results.Solver.status):\n",
    "    totalCost = model.cost()\n",
    "    for port in model.ports:\n",
    "        for city in model.cities:\n",
    "            if model.flow[port,city]() > 0:\n",
    "                res_arr.append((port,city,model.flow[port,city](),model.freightCost[port,city]/1000, model.freightCost[port,city]/70000))           \n",
    "    result_df = pd.DataFrame(res_arr, columns=['Port','City','Flow','Cost (Rs. in thousands)', 'Cost ($ in thousands)'])\n",
    "else:\n",
    "    print(\"Couldn't arrive on solution\")"
   ]
  },
  {
   "cell_type": "markdown",
   "metadata": {},
   "source": [
    "## Solution results\n",
    "### Flow quantities\n",
    "Flow is from port to city"
   ],
   "execution_count": null,
   "outputs": []
  },
  {
   "cell_type": "code",
   "execution_count": 8,
   "metadata": {},
   "outputs": [
    {
     "output_type": "execute_result",
     "data": {
      "text/plain": "           Port        City   Flow  Cost (Rs. in thousands)  \\\n0       Kolkata     Kolkata   31.6                    0.000   \n1        Haldia     Kolkata   51.0                    4.165   \n2      Paradeep    Guwhathi   26.0                   49.840   \n3      Paradeep    Srinagar   32.1                   62.545   \n4      Paradeep       Delhi    9.1                   60.165   \n5      Paradeep    Rudrapur   38.0                    3.465   \n6      Paradeep    Varanasi   32.6                   30.730   \n7      Paradeep   Kharagpur   21.7                   12.180   \n8      Paradeep    Rourkela   40.2                   13.790   \n9      Paradeep     Kolkata   39.3                   15.785   \n10        Vizag       Delhi  131.1                   61.880   \n11      Chennai   Vijaywada   27.7                   15.820   \n12      Chennai      Indore    6.4                   51.975   \n13      Chennai   Bangalore  176.2                   12.145   \n14      Chennai   Hyderabad   14.7                   21.910   \n15  Chidambaram       Delhi   96.3                   84.945   \n16  Chidambaram   Hyderabad  170.1                   29.750   \n17  Chidambaram      Nagpur   65.1                   47.215   \n18        Kochi   Bangalore   35.5                   19.180   \n19        Kochi  Coimbatore   43.4                    6.685   \n20    Mangalore  NaviMumbai   70.1                   32.025   \n21    Mangalore      Indore   27.9                   48.125   \n22    Mormugaon      Indore   20.0                   37.765   \n23    Mormugaon     Belgaum   43.4                    4.935   \n24         JNPT  NaviMumbai  217.6                    0.910   \n25    DeenDayal  Chandigarh   28.6                   19.600   \n26    DeenDayal       Delhi    7.8                   40.915   \n27    DeenDayal      Rajkot   38.0                    6.895   \n28    DeenDayal   Ahmedabad  149.3                   10.430   \n29    DeenDayal    Ludhiana   43.4                   45.255   \n\n    Cost ($ in thousands)  \n0                  0.0000  \n1                  0.0595  \n2                  0.7120  \n3                  0.8935  \n4                  0.8595  \n5                  0.0495  \n6                  0.4390  \n7                  0.1740  \n8                  0.1970  \n9                  0.2255  \n10                 0.8840  \n11                 0.2260  \n12                 0.7425  \n13                 0.1735  \n14                 0.3130  \n15                 1.2135  \n16                 0.4250  \n17                 0.6745  \n18                 0.2740  \n19                 0.0955  \n20                 0.4575  \n21                 0.6875  \n22                 0.5395  \n23                 0.0705  \n24                 0.0130  \n25                 0.2800  \n26                 0.5845  \n27                 0.0985  \n28                 0.1490  \n29                 0.6465  ",
      "text/html": "<div>\n<style scoped>\n    .dataframe tbody tr th:only-of-type {\n        vertical-align: middle;\n    }\n\n    .dataframe tbody tr th {\n        vertical-align: top;\n    }\n\n    .dataframe thead th {\n        text-align: right;\n    }\n</style>\n<table border=\"1\" class=\"dataframe\">\n  <thead>\n    <tr style=\"text-align: right;\">\n      <th></th>\n      <th>Port</th>\n      <th>City</th>\n      <th>Flow</th>\n      <th>Cost (Rs. in thousands)</th>\n      <th>Cost ($ in thousands)</th>\n    </tr>\n  </thead>\n  <tbody>\n    <tr>\n      <th>0</th>\n      <td>Kolkata</td>\n      <td>Kolkata</td>\n      <td>31.6</td>\n      <td>0.000</td>\n      <td>0.0000</td>\n    </tr>\n    <tr>\n      <th>1</th>\n      <td>Haldia</td>\n      <td>Kolkata</td>\n      <td>51.0</td>\n      <td>4.165</td>\n      <td>0.0595</td>\n    </tr>\n    <tr>\n      <th>2</th>\n      <td>Paradeep</td>\n      <td>Guwhathi</td>\n      <td>26.0</td>\n      <td>49.840</td>\n      <td>0.7120</td>\n    </tr>\n    <tr>\n      <th>3</th>\n      <td>Paradeep</td>\n      <td>Srinagar</td>\n      <td>32.1</td>\n      <td>62.545</td>\n      <td>0.8935</td>\n    </tr>\n    <tr>\n      <th>4</th>\n      <td>Paradeep</td>\n      <td>Delhi</td>\n      <td>9.1</td>\n      <td>60.165</td>\n      <td>0.8595</td>\n    </tr>\n    <tr>\n      <th>5</th>\n      <td>Paradeep</td>\n      <td>Rudrapur</td>\n      <td>38.0</td>\n      <td>3.465</td>\n      <td>0.0495</td>\n    </tr>\n    <tr>\n      <th>6</th>\n      <td>Paradeep</td>\n      <td>Varanasi</td>\n      <td>32.6</td>\n      <td>30.730</td>\n      <td>0.4390</td>\n    </tr>\n    <tr>\n      <th>7</th>\n      <td>Paradeep</td>\n      <td>Kharagpur</td>\n      <td>21.7</td>\n      <td>12.180</td>\n      <td>0.1740</td>\n    </tr>\n    <tr>\n      <th>8</th>\n      <td>Paradeep</td>\n      <td>Rourkela</td>\n      <td>40.2</td>\n      <td>13.790</td>\n      <td>0.1970</td>\n    </tr>\n    <tr>\n      <th>9</th>\n      <td>Paradeep</td>\n      <td>Kolkata</td>\n      <td>39.3</td>\n      <td>15.785</td>\n      <td>0.2255</td>\n    </tr>\n    <tr>\n      <th>10</th>\n      <td>Vizag</td>\n      <td>Delhi</td>\n      <td>131.1</td>\n      <td>61.880</td>\n      <td>0.8840</td>\n    </tr>\n    <tr>\n      <th>11</th>\n      <td>Chennai</td>\n      <td>Vijaywada</td>\n      <td>27.7</td>\n      <td>15.820</td>\n      <td>0.2260</td>\n    </tr>\n    <tr>\n      <th>12</th>\n      <td>Chennai</td>\n      <td>Indore</td>\n      <td>6.4</td>\n      <td>51.975</td>\n      <td>0.7425</td>\n    </tr>\n    <tr>\n      <th>13</th>\n      <td>Chennai</td>\n      <td>Bangalore</td>\n      <td>176.2</td>\n      <td>12.145</td>\n      <td>0.1735</td>\n    </tr>\n    <tr>\n      <th>14</th>\n      <td>Chennai</td>\n      <td>Hyderabad</td>\n      <td>14.7</td>\n      <td>21.910</td>\n      <td>0.3130</td>\n    </tr>\n    <tr>\n      <th>15</th>\n      <td>Chidambaram</td>\n      <td>Delhi</td>\n      <td>96.3</td>\n      <td>84.945</td>\n      <td>1.2135</td>\n    </tr>\n    <tr>\n      <th>16</th>\n      <td>Chidambaram</td>\n      <td>Hyderabad</td>\n      <td>170.1</td>\n      <td>29.750</td>\n      <td>0.4250</td>\n    </tr>\n    <tr>\n      <th>17</th>\n      <td>Chidambaram</td>\n      <td>Nagpur</td>\n      <td>65.1</td>\n      <td>47.215</td>\n      <td>0.6745</td>\n    </tr>\n    <tr>\n      <th>18</th>\n      <td>Kochi</td>\n      <td>Bangalore</td>\n      <td>35.5</td>\n      <td>19.180</td>\n      <td>0.2740</td>\n    </tr>\n    <tr>\n      <th>19</th>\n      <td>Kochi</td>\n      <td>Coimbatore</td>\n      <td>43.4</td>\n      <td>6.685</td>\n      <td>0.0955</td>\n    </tr>\n    <tr>\n      <th>20</th>\n      <td>Mangalore</td>\n      <td>NaviMumbai</td>\n      <td>70.1</td>\n      <td>32.025</td>\n      <td>0.4575</td>\n    </tr>\n    <tr>\n      <th>21</th>\n      <td>Mangalore</td>\n      <td>Indore</td>\n      <td>27.9</td>\n      <td>48.125</td>\n      <td>0.6875</td>\n    </tr>\n    <tr>\n      <th>22</th>\n      <td>Mormugaon</td>\n      <td>Indore</td>\n      <td>20.0</td>\n      <td>37.765</td>\n      <td>0.5395</td>\n    </tr>\n    <tr>\n      <th>23</th>\n      <td>Mormugaon</td>\n      <td>Belgaum</td>\n      <td>43.4</td>\n      <td>4.935</td>\n      <td>0.0705</td>\n    </tr>\n    <tr>\n      <th>24</th>\n      <td>JNPT</td>\n      <td>NaviMumbai</td>\n      <td>217.6</td>\n      <td>0.910</td>\n      <td>0.0130</td>\n    </tr>\n    <tr>\n      <th>25</th>\n      <td>DeenDayal</td>\n      <td>Chandigarh</td>\n      <td>28.6</td>\n      <td>19.600</td>\n      <td>0.2800</td>\n    </tr>\n    <tr>\n      <th>26</th>\n      <td>DeenDayal</td>\n      <td>Delhi</td>\n      <td>7.8</td>\n      <td>40.915</td>\n      <td>0.5845</td>\n    </tr>\n    <tr>\n      <th>27</th>\n      <td>DeenDayal</td>\n      <td>Rajkot</td>\n      <td>38.0</td>\n      <td>6.895</td>\n      <td>0.0985</td>\n    </tr>\n    <tr>\n      <th>28</th>\n      <td>DeenDayal</td>\n      <td>Ahmedabad</td>\n      <td>149.3</td>\n      <td>10.430</td>\n      <td>0.1490</td>\n    </tr>\n    <tr>\n      <th>29</th>\n      <td>DeenDayal</td>\n      <td>Ludhiana</td>\n      <td>43.4</td>\n      <td>45.255</td>\n      <td>0.6465</td>\n    </tr>\n  </tbody>\n</table>\n</div>"
     },
     "metadata": {},
     "execution_count": 8
    }
   ],
   "source": [
    "result_df.to_csv('./soltion.csv',index=False)\n",
    "result_df"
   ]
  },
  {
   "cell_type": "markdown",
   "metadata": {},
   "source": [
    "### Optimized cost"
   ],
   "execution_count": null,
   "outputs": []
  },
  {
   "cell_type": "code",
   "execution_count": 9,
   "metadata": {},
   "outputs": [
    {
     "output_type": "stream",
     "name": "stdout",
     "text": "Total cost will be Rs. 446.847835 (lakhs)\nTotal cost will be $ 638.35405 (thousands)\n"
    }
   ],
   "source": [
    "print(\"Total cost will be Rs.\",model.cost()/100000, \"(lakhs)\")\n",
    "print(\"Total cost will be $\", model.cost()/70000,\"(thousands)\")"
   ]
  }
 ],
 "metadata": {
  "kernelspec": {
   "display_name": "Python 3",
   "language": "julia",
   "name": "python3"
  },
  "language_info": {
   "file_extension": ".jl",
   "mimetype": "application/julia",
   "name": "julia",
   "version": "3.7.3-final"
  }
 },
 "nbformat": 4,
 "nbformat_minor": 2
}